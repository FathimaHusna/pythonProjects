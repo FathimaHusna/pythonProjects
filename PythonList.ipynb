{
  "cells": [
    {
      "cell_type": "markdown",
      "metadata": {
        "id": "view-in-github",
        "colab_type": "text"
      },
      "source": [
        "<a href=\"https://colab.research.google.com/github/FathimaHusna/pythonProjects/blob/main/PythonList.ipynb\" target=\"_parent\"><img src=\"https://colab.research.google.com/assets/colab-badge.svg\" alt=\"Open In Colab\"/></a>"
      ]
    },
    {
      "cell_type": "markdown",
      "metadata": {
        "id": "k2_mp5X3u8Uk"
      },
      "source": [
        "*Basic* List Operations\n",
        "\n",
        "    Create a List: Write a Python program to create a list of 10 random integers between 1 and 100.\n",
        "\n",
        "    Access List Items: Write a Python program to access the 2nd and 4th elements of a list.\n",
        "\n",
        "    Update List Items: Write a Python program to update the last element in a list with a new value.\n",
        "\n",
        "    Delete List Items: Write a Python program to remove the 3rd item from a list.\n",
        "\n",
        "    List Length: Write a Python program to find the length of a list.\n"
      ]
    },
    {
      "cell_type": "markdown",
      "metadata": {
        "id": "fgs3kvs1nL6V"
      },
      "source": [
        "# **Practice Questions - List**"
      ]
    },
    {
      "cell_type": "markdown",
      "metadata": {
        "id": "cUXDH5VAoZ2L"
      },
      "source": [
        "*01. Basic List Operations*\n",
        "\n",
        "\n",
        "\n",
        "\n",
        "\n",
        "\n",
        "\n"
      ]
    },
    {
      "cell_type": "markdown",
      "metadata": {
        "id": "f-JwWBOonT3l"
      },
      "source": [
        "01. Create a List: Write a Python program to create a list of 10 random integers between 1 and 100."
      ]
    },
    {
      "cell_type": "code",
      "execution_count": null,
      "metadata": {
        "colab": {
          "base_uri": "https://localhost:8080/"
        },
        "id": "grGtnH-XkwYz",
        "outputId": "e30deba0-2bcf-4fb2-d9ee-6564e8afa8f0"
      },
      "outputs": [
        {
          "name": "stdout",
          "output_type": "stream",
          "text": [
            "[23, 79, 98, 35, 25, 21, 69, 99, 59, 28]\n"
          ]
        }
      ],
      "source": [
        "# a.\n",
        "from random import randint\n",
        "def random_number_generate():\n",
        "\n",
        "  random_number = []\n",
        "  for i in range(10):\n",
        "    random_number.append(randint(1,100))\n",
        "  return random_number\n",
        "\n",
        "rn = random_number_generate()\n",
        "print(rn)\n"
      ]
    },
    {
      "cell_type": "code",
      "execution_count": null,
      "metadata": {
        "colab": {
          "base_uri": "https://localhost:8080/"
        },
        "id": "HDX6KpPknDsX",
        "outputId": "d50ca9dc-16d7-4705-e42d-ae5d346f2a09"
      },
      "outputs": [
        {
          "name": "stdout",
          "output_type": "stream",
          "text": [
            "[40, 93, 12, 80, 23, 31, 74, 85, 44, 100]\n"
          ]
        }
      ],
      "source": [
        "#b.\n",
        "from random import randint\n",
        "\n",
        "def create_random_list():\n",
        "    random_numbers = [randint(1, 100) for _ in range(10)]\n",
        "    return random_numbers\n",
        "\n",
        "# Generate the list and print it\n",
        "random_list = create_random_list()\n",
        "print(random_list)\n"
      ]
    },
    {
      "cell_type": "markdown",
      "metadata": {
        "id": "H2aP0cOFoJGd"
      },
      "source": [
        "2. Access List Items: Write a Python program to access the 2nd and 4th elements of a list."
      ]
    },
    {
      "cell_type": "code",
      "execution_count": null,
      "metadata": {
        "colab": {
          "base_uri": "https://localhost:8080/"
        },
        "id": "6btjVcjQnwku",
        "outputId": "2265712b-a21f-4daa-d0da-254c15b23790"
      },
      "outputs": [
        {
          "name": "stdout",
          "output_type": "stream",
          "text": [
            "2\n",
            "4\n"
          ]
        }
      ],
      "source": [
        "#a.\n",
        "def access_list():\n",
        "  list_elements=[1, 2, 3, 4, 5, 6, 7, 8, 9, 10]\n",
        "  print(list_elements[1])\n",
        "  print(list_elements[3])\n",
        "access_list()"
      ]
    },
    {
      "cell_type": "code",
      "execution_count": null,
      "metadata": {
        "id": "z4SvcbCsprZg"
      },
      "outputs": [],
      "source": [
        "#b.\n",
        "def access_elements(lst):\n",
        "    if len(lst) >= 4:\n",
        "        second_element = lst[1]  # Index 1 for the 2nd element\n",
        "        fourth_element = lst[3]  # Index 3 for the 4th element\n",
        "        return second_element, fourth_element\n",
        "    else:\n",
        "        return \"List is too short.\"\n",
        "\n",
        "# Example list\n",
        "example_list = [10, 20, 30, 40, 50]\n",
        "\n",
        "# Access the 2nd and 4th elements\n",
        "second, fourth = access_elements(example_list)\n",
        "print(f\"2nd element: {second}\")\n",
        "print(f\"4th element: {fourth}\")\n"
      ]
    },
    {
      "cell_type": "markdown",
      "metadata": {
        "id": "mVakF0wnqVWR"
      },
      "source": [
        "3. Update List Items: Write a Python program to update the last element in a list with a new value."
      ]
    },
    {
      "cell_type": "code",
      "execution_count": null,
      "metadata": {
        "colab": {
          "base_uri": "https://localhost:8080/"
        },
        "collapsed": true,
        "id": "zA6bSQYzqX0C",
        "outputId": "cecd9cca-36da-446a-dc70-d6d6d576a069"
      },
      "outputs": [
        {
          "name": "stdout",
          "output_type": "stream",
          "text": [
            "[10, 20, 30, 40, 100]\n"
          ]
        }
      ],
      "source": [
        "#a.\n",
        "def updateList(list, new_value):\n",
        "  list[-1] = new_value\n",
        "  return list\n",
        "\n",
        "example_list = [10, 20, 30, 40, 50]\n",
        "new_value = 100\n",
        "updated_list = updateList(example_list, new_value)\n",
        "print(updated_list)"
      ]
    },
    {
      "cell_type": "code",
      "execution_count": null,
      "metadata": {
        "colab": {
          "base_uri": "https://localhost:8080/"
        },
        "id": "1qIMstmIsK2l",
        "outputId": "fe81b82e-7433-47e9-e8b1-0c5ae1aa0f02"
      },
      "outputs": [
        {
          "name": "stdout",
          "output_type": "stream",
          "text": [
            "[10, 20, 30, 40, 100]\n"
          ]
        }
      ],
      "source": [
        "#b.\n",
        "def update_last_element(lst, new_value):\n",
        "    if lst:  # Check if the list is not empty\n",
        "        lst[-1] = new_value  # Update the last element\n",
        "    else:\n",
        "        print(\"The list is empty.\")\n",
        "\n",
        "# Example list\n",
        "example_list = [10, 20, 30, 40, 50]\n",
        "\n",
        "# New value to update the last element\n",
        "new_value = 100\n",
        "\n",
        "# Update the last element in the list\n",
        "update_last_element(example_list, new_value)\n",
        "\n",
        "# Print the updated list\n",
        "print(example_list)\n"
      ]
    },
    {
      "cell_type": "markdown",
      "metadata": {
        "id": "3n7u1Sw_tAP3"
      },
      "source": [
        "4. Delete List Items: Write a Python program to remove the 3rd item from a list."
      ]
    },
    {
      "cell_type": "code",
      "execution_count": null,
      "metadata": {
        "colab": {
          "base_uri": "https://localhost:8080/"
        },
        "id": "PFbNvBhMs8iI",
        "outputId": "33421845-7f03-4dfc-ed43-f8611a13548f"
      },
      "outputs": [
        {
          "name": "stdout",
          "output_type": "stream",
          "text": [
            "[10, 20, 40, 50]\n"
          ]
        }
      ],
      "source": [
        "#a.\n",
        "def removeList(list):\n",
        "  list.pop(2)\n",
        "  return list\n",
        "\n",
        "example_list = [10, 20, 30, 40, 50]\n",
        "updated_list = removeList(example_list)\n",
        "print(updated_list)"
      ]
    },
    {
      "cell_type": "code",
      "execution_count": null,
      "metadata": {
        "id": "5E7QrXVMuaY-"
      },
      "outputs": [],
      "source": [
        "#b.\n",
        "def remove_third_element(lst):\n",
        "    if len(lst) >= 3:  # Check if the list has at least 3 elements\n",
        "        del lst[2]  # Remove the 3rd element (index 2)\n",
        "    else:\n",
        "        print(\"The list does not have enough elements.\")\n",
        "\n",
        "# Example list\n",
        "example_list = [10, 20, 30, 40, 50]\n",
        "\n",
        "# Remove the 3rd item from the list\n",
        "remove_third_element(example_list)\n",
        "\n",
        "# Print the updated list\n",
        "print(example_list)\n"
      ]
    },
    {
      "cell_type": "markdown",
      "metadata": {
        "id": "WHAvHzDyvr1G"
      },
      "source": [
        "5. List Length: Write a Python program to find the length of a list."
      ]
    },
    {
      "cell_type": "code",
      "execution_count": null,
      "metadata": {
        "colab": {
          "base_uri": "https://localhost:8080/"
        },
        "id": "XMUFSNLcvuyv",
        "outputId": "83a3f657-be68-4c56-e3a6-d1fd4d003635"
      },
      "outputs": [
        {
          "name": "stdout",
          "output_type": "stream",
          "text": [
            "The length of the list is: 5\n"
          ]
        }
      ],
      "source": [
        "def find_list_length(lst):\n",
        "    length = len(lst)\n",
        "    return length\n",
        "    # Example list\n",
        "example_list = [10, 20, 30, 40, 50]\n",
        "\n",
        "# Find the length of the list\n",
        "list_length = find_list_length(example_list)\n",
        "\n",
        "# Print the length of the list\n",
        "print(f\"The length of the list is: {list_length}\")"
      ]
    },
    {
      "cell_type": "markdown",
      "metadata": {
        "id": "Ou7wvKtAwmOG"
      },
      "source": [
        "*02. List Methods and Functions*"
      ]
    },
    {
      "cell_type": "markdown",
      "metadata": {
        "id": "eV1uuANcw8ZW"
      },
      "source": [
        "List Methods and Functions\n",
        "\n",
        "    Append and Extend: Write a Python program to append a new item to the list and then extend the list with another list of 3 items.\n",
        "\n",
        "    Insert: Write a Python program to insert a new item at the second position in the list.\n",
        "\n",
        "    Remove and Pop: Write a Python program to remove the first occurrence of a specific value in the list and then pop the last item.\n",
        "\n",
        "    Index and Count: Write a Python program to find the index of a particular value in the list and count the occurrences of another value.\n",
        "\n",
        "    Sort and Reverse: Write a Python program to sort a list in ascending order and then reverse the sorted list."
      ]
    },
    {
      "cell_type": "markdown",
      "metadata": {
        "id": "gXSTpmTdQ1_E"
      },
      "source": [
        "1. Append and Extend: Write a Python program to append a new item to the list and then extend the list with another list of 3 items."
      ]
    },
    {
      "cell_type": "code",
      "execution_count": null,
      "metadata": {
        "colab": {
          "base_uri": "https://localhost:8080/"
        },
        "id": "elpSnZ5_wgtk",
        "outputId": "52ad6f87-b35f-4d29-bfc1-7a6d6d44d049"
      },
      "outputs": [
        {
          "name": "stdout",
          "output_type": "stream",
          "text": [
            "[10, 20, 30, 40, 50, 60, 70, 80, 90]\n"
          ]
        }
      ],
      "source": [
        "#a.\n",
        "def appendAndExtend(list, new_item, extend_list):\n",
        "  list.append(new_item)\n",
        "  list.extend(extend_list)\n",
        "  return list\n",
        "  # Example list\n",
        "example_list = [10, 20, 30, 40, 50]\n",
        "new_item = 60\n",
        "extend_list = [70, 80, 90]\n",
        "updated_list = appendAndExtend(example_list, new_item, extend_list)\n",
        "print(updated_list)"
      ]
    },
    {
      "cell_type": "code",
      "execution_count": null,
      "metadata": {
        "id": "5q7Q3zooSSUe"
      },
      "outputs": [],
      "source": [
        "#b.\n",
        "initial_list = [1, 2, 3, 4, 5]\n",
        "\n",
        "# Append a new item to the list\n",
        "new_item = 6\n",
        "initial_list.append(new_item)\n",
        "print(\"After appending new item:\", initial_list)\n",
        "\n",
        "# Define another list with 3 items\n",
        "additional_items = [7, 8, 9]\n",
        "\n",
        "# Extend the initial list with the additional list\n",
        "initial_list.extend(additional_items)\n",
        "print(\"After extending with additional items:\", initial_list)\n"
      ]
    },
    {
      "cell_type": "markdown",
      "metadata": {
        "id": "cqJT2NjrR8tn"
      },
      "source": [
        "2. Insert: Write a Python program to insert a new item at the second position in the list."
      ]
    },
    {
      "cell_type": "code",
      "execution_count": null,
      "metadata": {
        "colab": {
          "base_uri": "https://localhost:8080/"
        },
        "id": "kkqfCs1aSjP6",
        "outputId": "e487eaeb-c11c-438f-f072-bd7ede202c0e"
      },
      "outputs": [
        {
          "name": "stdout",
          "output_type": "stream",
          "text": [
            "[10, 'a', 20, 30, 40, 50]\n"
          ]
        }
      ],
      "source": [
        "def insertNewItem(list):\n",
        "  list.insert(1, 'a')\n",
        "  return list\n",
        "  # Example list\n",
        "example_list = [10, 20, 30, 40, 50]\n",
        "updated_list = insertNewItem(example_list)\n",
        "print(updated_list)"
      ]
    },
    {
      "cell_type": "markdown",
      "metadata": {
        "id": "yqJGrRaJUax0"
      },
      "source": [
        "\n",
        "3. Remove and Pop: Write a Python program to remove the first occurrence of a specific value in the list and then pop the last item."
      ]
    },
    {
      "cell_type": "code",
      "execution_count": null,
      "metadata": {
        "colab": {
          "base_uri": "https://localhost:8080/"
        },
        "id": "ML--Ehh7UiWb",
        "outputId": "d57c487f-c056-4fef-ac26-12aa6ddaa8be"
      },
      "outputs": [
        {
          "name": "stdout",
          "output_type": "stream",
          "text": [
            "Before popping: [10, 20, 40, 50]\n",
            "After popping: [10, 20, 40]\n",
            "Popped item: 50\n"
          ]
        }
      ],
      "source": [
        "def removeAndPop(list_elements, value_to_remove):\n",
        "  if value_to_remove in list_elements:\n",
        "    list_elements.remove(value_to_remove)\n",
        "    print(f\"Before popping: {list_elements}\")\n",
        "\n",
        "  else:\n",
        "    print(f\"{value_to_remove} is not in the list.\")\n",
        "\n",
        "  last_item= list_elements.pop()\n",
        "  print(f\"After popping: {list_elements}\")\n",
        "  print(f\"Popped item: {last_item}\")\n",
        "\n",
        "  return list_elements, last_item\n",
        "\n",
        "\n",
        "\n",
        "list_elements = [10, 20, 20, 40, 50]\n",
        "value_to_remove = 20\n",
        "updated_list, popped_item = removeAndPop(list_elements, value_to_remove)"
      ]
    },
    {
      "cell_type": "markdown",
      "metadata": {
        "id": "cA608HoCuuPS"
      },
      "source": []
    },
    {
      "cell_type": "markdown",
      "metadata": {
        "id": "XE8oYIjxbKVc"
      },
      "source": [
        "4. Index and Count: Write a Python program to find the index of a particular value in the list and count the occurrences of another value."
      ]
    },
    {
      "cell_type": "code",
      "execution_count": null,
      "metadata": {
        "colab": {
          "base_uri": "https://localhost:8080/"
        },
        "id": "4LECG3N3bMOx",
        "outputId": "e2d59365-6ed0-4140-fb37-8d98e5e51dda"
      },
      "outputs": [
        {
          "name": "stdout",
          "output_type": "stream",
          "text": [
            "Index of 30: 2\n",
            "Count of 20: 2\n"
          ]
        }
      ],
      "source": [
        "def IndexAndCount(list, value_to_find, value_to_count):\n",
        "  if value_to_find in list:\n",
        "    index_of_value= list.index(value_to_find)\n",
        "    print(f\"Index of {value_to_find}: {index_of_value}\")\n",
        "  else:\n",
        "    print(f\"{value_to_find} is not in the list.\")\n",
        "\n",
        "  count_of_value = list.count(value_to_count)\n",
        "  print(f\"Count of {value_to_count}: {count}\")\n",
        "  return index_of_value, count_of_value\n",
        "  # Example list\n",
        "example_list = [10, 20, 30, 20, 50]\n",
        "value_to_find = 30\n",
        "value_to_count = 20\n",
        "index, count = IndexAndCount(example_list, value_to_find, value_to_count)\n"
      ]
    },
    {
      "cell_type": "markdown",
      "metadata": {
        "id": "rfzvmJDq3eDy"
      },
      "source": [
        "5. Sort and Reverse: Write a Python program to sort a list in ascending order and then reverse the sorted list."
      ]
    },
    {
      "cell_type": "code",
      "execution_count": null,
      "metadata": {
        "colab": {
          "base_uri": "https://localhost:8080/"
        },
        "id": "flDPOVYd3rzV",
        "outputId": "a502d8ab-ac8a-4728-8a3e-9f8614abcdcb"
      },
      "outputs": [
        {
          "name": "stdout",
          "output_type": "stream",
          "text": [
            "Sorted list: [10, 20, 20, 30, 50]\n",
            "Reversed list: [50, 30, 20, 20, 10]\n"
          ]
        }
      ],
      "source": [
        "def sortAndReverse(list):\n",
        "  sorted_list = list.copy()\n",
        "  sorted_list.sort()\n",
        "  reversed_list = sorted_list.copy()\n",
        "  reversed_list.reverse()\n",
        "  print(f\"Sorted list: {sorted_list}\")\n",
        "  print(f\"Reversed list: {reversed_list}\")\n",
        "  return sorted_list, reversed_list\n",
        "\n",
        "  # Example list\n",
        "example_list = [10, 20, 30, 20, 50]\n",
        "sorted_list, reversed_list = sortAndReverse(example_list)\n"
      ]
    },
    {
      "cell_type": "markdown",
      "metadata": {
        "id": "9Iu4Nbbw7WuO"
      },
      "source": [
        "*03. Advanced List Operations*"
      ]
    },
    {
      "cell_type": "markdown",
      "metadata": {
        "id": "TxFUDQfc7crh"
      },
      "source": [
        "Advanced List Operations\n",
        "\n",
        "    List Comprehensions: Write a Python program using list comprehension to create a new list with the squares of all even numbers from the original list.\n",
        "\n",
        "    Filter List: Write a Python program to filter out all odd numbers from a list and store them in a new list.\n",
        "\n",
        "    Map and Reduce: Write a Python program to create a new list where each element is the result of multiplying the corresponding element in the original list by 2. Use map() for this. Then, use reduce() to find the sum of all elements in the new list.\n",
        "\n",
        "    Zip and Unzip: Write a Python program to combine two lists into a list of tuples using zip(). Then, unzip the list of tuples back into two separate lists.\n",
        "\n",
        "    Nested Lists: Write a Python program to create a nested list and then flatten it into a single list."
      ]
    },
    {
      "cell_type": "markdown",
      "metadata": {
        "id": "y2q2_h3m7vlv"
      },
      "source": [
        "1. List Comprehensions: Write a Python program using list comprehension to create a new list with the squares of all even numbers from the original"
      ]
    },
    {
      "cell_type": "code",
      "execution_count": null,
      "metadata": {
        "colab": {
          "base_uri": "https://localhost:8080/"
        },
        "id": "fn_l3TwZ7z60",
        "outputId": "082a4fcb-8f8e-4b91-fd01-88b53c8cb51c"
      },
      "outputs": [
        {
          "name": "stdout",
          "output_type": "stream",
          "text": [
            "[4, 16, 36, 64, 100]\n"
          ]
        }
      ],
      "source": [
        "def SquareofEvenNumbers(list):\n",
        "  new_list = [x**2 for x in list if x % 2 == 0]\n",
        "  return new_list\n",
        "  # Example list\n",
        "example_list = [1, 2, 3, 4, 5, 6, 7, 8, 9, 10]\n",
        "new_list = SquareofEvenNumbers(example_list)\n",
        "print(new_list)"
      ]
    },
    {
      "cell_type": "markdown",
      "metadata": {
        "id": "QSyRkaWZ9m8F"
      },
      "source": [
        "2. Filter List: Write a Python program to filter out all odd numbers from a list and store them in a new list."
      ]
    },
    {
      "cell_type": "code",
      "execution_count": null,
      "metadata": {
        "colab": {
          "base_uri": "https://localhost:8080/"
        },
        "id": "xrfUN523-L-p",
        "outputId": "9aab21a5-e2f7-422e-ceaf-cb643b84e74b"
      },
      "outputs": [
        {
          "name": "stdout",
          "output_type": "stream",
          "text": [
            "[1, 3, 5, 7, 9]\n"
          ]
        }
      ],
      "source": [
        "def filterOddNumbers(list):\n",
        "  new_list = [x for x in list if x % 2 != 0]\n",
        "  return new_list\n",
        "  # Example list\n",
        "example_list = [1, 2, 3, 4, 5, 6, 7, 8, 9, 10]\n",
        "new_list = filterOddNumbers(example_list)\n",
        "print(new_list)"
      ]
    },
    {
      "cell_type": "markdown",
      "metadata": {
        "id": "mb9-cOSu_P3B"
      },
      "source": [
        "3. Map and Reduce: Write a Python program to create a new list where each element is the result of multiplying the corresponding element in the original list by 2. Use map() for this. Then, use reduce() to find the sum of all elements in the new list."
      ]
    },
    {
      "cell_type": "code",
      "execution_count": null,
      "metadata": {
        "colab": {
          "base_uri": "https://localhost:8080/"
        },
        "id": "oq9OLXvpBG1L",
        "outputId": "73928c2d-4e08-45e5-b10e-e077032236c4"
      },
      "outputs": [
        {
          "output_type": "stream",
          "name": "stdout",
          "text": [
            "New list: [2, 4, 6, 8, 10]\n",
            "Sum of elements: 30\n"
          ]
        }
      ],
      "source": [
        "from functools import reduce\n",
        "def MapReduce(original_list):\n",
        "  new_list = list(map(lambda x: x * 2, original_list))\n",
        "  sum_of_elements = reduce(lambda x, y: x + y, new_list)\n",
        "  return new_list, sum_of_elements\n",
        "  # Example list\n",
        "original_list = [1, 2, 3, 4, 5]\n",
        "new_list, sum_of_elements = MapReduce(original_list)\n",
        "print(\"New list:\", new_list)\n",
        "print(\"Sum of elements:\", sum_of_elements)"
      ]
    },
    {
      "cell_type": "markdown",
      "source": [
        "4. Zip and Unzip: Write a Python program to combine two lists into a list of tuples using zip(). Then, unzip the list of tuples back into two separate lists.\n",
        "\n"
      ],
      "metadata": {
        "id": "jF-f1TWQH7Df"
      }
    },
    {
      "cell_type": "code",
      "source": [
        "def zipAndUnzip(list1, list2):\n",
        "  zipped_list = list(zip(list1, list2))\n",
        "  print(\"Zipped list:\", zipped_list)\n",
        "  unzipped_list1, unzipped_list2 = zip(*zipped_list)\n",
        "  print(\"Unzipped list 1:\", unzipped_list1)\n",
        "  print(\"Unzipped list 2:\", unzipped_list2)\n",
        "  return zipped_list, unzipped_list1, unzipped_list2\n",
        "  # Example lists\n",
        "list1 = [1, 2, 3]\n",
        "list2 = ['a', 'b', 'c']\n",
        "zipped_list, unzipped_list1, unzipped_list2 = zipAndUnzip(list1, list2)"
      ],
      "metadata": {
        "colab": {
          "base_uri": "https://localhost:8080/"
        },
        "id": "6nQvaD8uLHDG",
        "outputId": "b9541e8a-3867-4ea3-c09f-30469e581aee"
      },
      "execution_count": null,
      "outputs": [
        {
          "output_type": "stream",
          "name": "stdout",
          "text": [
            "Zipped list: [(1, 'a'), (2, 'b'), (3, 'c')]\n",
            "Unzipped list 1: (1, 2, 3)\n",
            "Unzipped list 2: ('a', 'b', 'c')\n"
          ]
        }
      ]
    },
    {
      "cell_type": "markdown",
      "source": [
        "5. Nested Lists: Write a Python program to create a nested list and then flatten it into a single list."
      ],
      "metadata": {
        "id": "y8avaCvIICZU"
      }
    },
    {
      "cell_type": "code",
      "source": [
        "def flattenMatrix(matrix):\n",
        "  flatten_matrix = [value for sublist in matrix for value in sublist]\n",
        "  matrix.append(flatten_matrix)\n",
        "  print(f\"After flatten matrix is {flatten_matrix}\")\n",
        "  return flatten_matrix\n",
        "  # Example matrix\n",
        "matrix = [[1, 2, 3], [4, 5, 6], [7, 8, 9]]\n",
        "flatten_matrix = flattenMatrix(matrix)"
      ],
      "metadata": {
        "colab": {
          "base_uri": "https://localhost:8080/"
        },
        "id": "UrPnOu4wIE2F",
        "outputId": "fbba131e-023b-4494-bce9-34bb596318e4"
      },
      "execution_count": null,
      "outputs": [
        {
          "output_type": "stream",
          "name": "stdout",
          "text": [
            "After flatten matrix is [1, 2, 3, 4, 5, 6, 7, 8, 9]\n"
          ]
        }
      ]
    },
    {
      "cell_type": "markdown",
      "source": [
        "*05. List Challenges*"
      ],
      "metadata": {
        "id": "hFdzR7gwLlRp"
      }
    },
    {
      "cell_type": "markdown",
      "source": [
        "\n",
        "List Challenges\n",
        "\n",
        "    Remove Duplicates: Write a Python program to remove duplicates from a list while preserving the order.\n",
        "\n",
        "    List Intersection: Write a Python program to find the intersection of two lists.\n",
        "\n",
        "    List Difference: Write a Python program to find the difference between two lists.\n",
        "\n",
        "    List Combinations: Write a Python program to find all possible combinations of elements from two lists.\n",
        "\n",
        "    List Rotation: Write a Python program to rotate the elements of a list by a given number of positions to the right."
      ],
      "metadata": {
        "id": "PbaifETbLxs6"
      }
    },
    {
      "cell_type": "markdown",
      "source": [
        "1. Remove Duplicates: Write a Python program to remove duplicates from a list while preserving the order."
      ],
      "metadata": {
        "id": "bodZ3T6eL4wA"
      }
    },
    {
      "cell_type": "code",
      "source": [
        "def RemoveDuplicates(list):\n",
        "  unique_list = []\n",
        "  for item in list:\n",
        "    if item not in unique_list:\n",
        "      unique_list.append(item)\n",
        "  return unique_list\n",
        "  # Example list\n",
        "example_list = [1, 2, 2, 3, 4, 4, 5]\n",
        "unique_list = RemoveDuplicates(example_list)\n",
        "print(unique_list)\n",
        "\n"
      ],
      "metadata": {
        "id": "atHsaKCfL8iO",
        "colab": {
          "base_uri": "https://localhost:8080/"
        },
        "outputId": "8efa81e0-6e1c-4bc9-b5af-7dbb066b8f35"
      },
      "execution_count": null,
      "outputs": [
        {
          "output_type": "stream",
          "name": "stdout",
          "text": [
            "[1, 2, 3, 4, 5]\n"
          ]
        }
      ]
    },
    {
      "cell_type": "markdown",
      "source": [
        "2. List Intersection: Write a Python program to find the intersection of two lists."
      ],
      "metadata": {
        "id": "tdjiWDJd1xBh"
      }
    },
    {
      "cell_type": "code",
      "source": [
        "def ListIntersection(list1, list2):\n",
        "  intersection_list = [item for item in list1 if item in list2]\n",
        "  return intersection_list\n",
        "  # Example lists\n",
        "list1 = [1, 2, 3, 4, 5]\n",
        "list2 = [3, 4, 5, 6, 7]\n",
        "intersection_list = ListIntersection(list1, list2)\n",
        "print(intersection_list)"
      ],
      "metadata": {
        "colab": {
          "base_uri": "https://localhost:8080/"
        },
        "id": "4rF8hIrU1wY4",
        "outputId": "574cade3-82cf-4775-af5f-2cc27832c4bd"
      },
      "execution_count": null,
      "outputs": [
        {
          "output_type": "stream",
          "name": "stdout",
          "text": [
            "[3, 4, 5]\n"
          ]
        }
      ]
    },
    {
      "cell_type": "markdown",
      "source": [
        "3. List Difference: Write a Python program to find the difference between two lists.\n"
      ],
      "metadata": {
        "id": "0hwWcnJO3cGo"
      }
    },
    {
      "cell_type": "code",
      "source": [
        "def DifferenceList(list1, list2):\n",
        "  difference_list = [item for item in list1 if item not in list2]\n",
        "  return difference_list\n",
        "  # Example lists\n",
        "list1 = [1, 2, 3, 4, 5]\n",
        "list2 = [3, 4, 5, 6, 7]\n",
        "difference_list = DifferenceList(list1, list2)\n",
        "print(difference_list)"
      ],
      "metadata": {
        "colab": {
          "base_uri": "https://localhost:8080/"
        },
        "id": "FcuRVWZC36dc",
        "outputId": "bc999b50-f6a2-44c1-edce-e4d87b2515fa"
      },
      "execution_count": null,
      "outputs": [
        {
          "output_type": "stream",
          "name": "stdout",
          "text": [
            "[1, 2]\n"
          ]
        }
      ]
    },
    {
      "cell_type": "markdown",
      "source": [
        "4. List Combinations: Write a Python program to find all possible combinations of elements from two lists.\n",
        "\n"
      ],
      "metadata": {
        "id": "VHY-GLEH46RD"
      }
    },
    {
      "cell_type": "code",
      "source": [
        "def Combinations(list1, list2):\n",
        "  combinations_list = [(x, y) for x in list1 for y in list2]\n",
        "  return combinations_list\n",
        "  # Example lists\n",
        "list1 = [1, 2, 3]\n",
        "list2 = ['a', 'b', 'c']\n",
        "combinations_list = Combinations(list1, list2)\n",
        "print(combinations_list)"
      ],
      "metadata": {
        "colab": {
          "base_uri": "https://localhost:8080/"
        },
        "id": "47_hUKs95NZp",
        "outputId": "9d300ff1-8f70-4b60-ff03-d4a9899ee548"
      },
      "execution_count": null,
      "outputs": [
        {
          "output_type": "stream",
          "name": "stdout",
          "text": [
            "[(1, 'a'), (1, 'b'), (1, 'c'), (2, 'a'), (2, 'b'), (2, 'c'), (3, 'a'), (3, 'b'), (3, 'c')]\n"
          ]
        }
      ]
    },
    {
      "cell_type": "markdown",
      "source": [
        "5. List Rotation: Write a Python program to rotate the elements of a list by a given number of positions to the right."
      ],
      "metadata": {
        "id": "rMWqqd7R5zoz"
      }
    },
    {
      "cell_type": "code",
      "source": [
        "def rotateList(list1, positions):\n",
        "  rotated_list = list1[-positions:] + list1[:-positions]\n",
        "  return rotated_list\n",
        "  # Example list\n",
        "example_list = [1, 2, 3, 4, 5]\n",
        "positions = 2\n",
        "rotated_list = rotateList(example_list, positions)\n",
        "print(rotated_list)"
      ],
      "metadata": {
        "colab": {
          "base_uri": "https://localhost:8080/"
        },
        "id": "hTt956jx6QeN",
        "outputId": "999ab6ad-9ac0-412e-b40d-1fec54b73a06"
      },
      "execution_count": null,
      "outputs": [
        {
          "output_type": "stream",
          "name": "stdout",
          "text": [
            "[4, 5, 1, 2, 3]\n"
          ]
        }
      ]
    },
    {
      "cell_type": "markdown",
      "source": [
        "*06. Real-World Problems*"
      ],
      "metadata": {
        "id": "fSqS5voQ-VDy"
      }
    },
    {
      "cell_type": "markdown",
      "source": [
        "\n",
        "Real-World Problems\n",
        "\n",
        "    Palindrome List: Write a Python program to check if a list is a palindrome.\n",
        "\n",
        "    List of Dictionaries: Write a Python program to create a list of dictionaries from a list of keys and a list of values.\n",
        "\n",
        "    Frequency Count: Write a Python program to count the frequency of each element in a list and store the result in a dictionary.\n",
        "\n",
        "    Matrix Operations: Write a Python program to perform matrix addition, subtraction, and multiplication using nested lists.\n",
        "\n",
        "    Student Scores: Write a Python program to store the names and scores of students in a list of tuples, then sort the list by scores and print the top 3 students."
      ],
      "metadata": {
        "id": "LBeqMdK3-dqP"
      }
    },
    {
      "cell_type": "markdown",
      "source": [
        "1. Palindrome List: Write a Python program to check if a list is a palindrome.\n",
        "\n",
        "\n"
      ],
      "metadata": {
        "id": "-ExubmiC-kLI"
      }
    },
    {
      "cell_type": "code",
      "source": [
        "#a\n",
        "def palindromeCheck(list1):\n",
        "  position = len(list1) // 2\n",
        "  if len(list1) % 2 == 1:\n",
        "     slice_1= list1[:position +1]\n",
        "  else:\n",
        "    slice_1 = list1[:position]\n",
        "\n",
        "  slice_2 = list1[position:][::-1]\n",
        "  if (slice_1 == slice_2):\n",
        "    print(f\"slice 1: {slice_1}\")\n",
        "    print(f\"slice 2: {slice_2}\")\n",
        "    return True\n",
        "\n",
        "  else:\n",
        "    print(f\"slice 1: {slice_1}\")\n",
        "    print(f\"slice 2: {slice_2}\")\n",
        "    return False\n",
        "\n",
        "\n",
        "  # Example list\n",
        "example_list = [1, 2, 3,4, 3,2,1]\n",
        "is_palindrome= palindromeCheck(example_list)\n",
        "print(is_palindrome)\n"
      ],
      "metadata": {
        "colab": {
          "base_uri": "https://localhost:8080/"
        },
        "id": "tpPKlfI6-uwe",
        "outputId": "7e77506e-03dc-4d00-bd20-842fa491f1ba"
      },
      "execution_count": null,
      "outputs": [
        {
          "output_type": "stream",
          "name": "stdout",
          "text": [
            "slice 1: [1, 2, 3, 4]\n",
            "slice 2: [1, 2, 3, 4]\n",
            "True\n"
          ]
        }
      ]
    },
    {
      "cell_type": "code",
      "source": [
        "#refined version of a\n",
        "def palindromeCheck(list1):\n",
        "    position = len(list1) // 2\n",
        "\n",
        "    if len(list1) % 2 == 1:\n",
        "        slice_1 = list1[:position]  # Exclude the middle element\n",
        "    else:\n",
        "        slice_1 = list1[:position]\n",
        "\n",
        "    slice_2 = list1[position:][::-1] if len(list1) % 2 == 0 else list1[position + 1:][::-1]\n",
        "\n",
        "    print(f\"slice 1: {slice_1}\")\n",
        "    print(f\"slice 2: {slice_2}\")\n",
        "\n",
        "    return slice_1 == slice_2\n",
        "\n",
        "# Example list\n",
        "example_list = [1, 2, 3, 4, 3, 2, 1]\n",
        "is_palindrome = palindromeCheck(example_list)\n",
        "print(is_palindrome)  # Output: True\n"
      ],
      "metadata": {
        "id": "Z1i1iPmqIVsb"
      },
      "execution_count": null,
      "outputs": []
    },
    {
      "cell_type": "markdown",
      "source": [
        "2. List of Dictionaries: Write a Python program to create a list of dictionaries from a list of keys and a list of values."
      ],
      "metadata": {
        "id": "rS5qqRzaIoKd"
      }
    },
    {
      "cell_type": "code",
      "source": [],
      "metadata": {
        "id": "zumsY9t_IgR0"
      },
      "execution_count": null,
      "outputs": []
    }
  ],
  "metadata": {
    "colab": {
      "provenance": [],
      "include_colab_link": true
    },
    "kernelspec": {
      "display_name": "Python 3",
      "name": "python3"
    },
    "language_info": {
      "name": "python"
    }
  },
  "nbformat": 4,
  "nbformat_minor": 0
}